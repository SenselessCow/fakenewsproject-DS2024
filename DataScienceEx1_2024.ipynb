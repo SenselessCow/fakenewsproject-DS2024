{
  "nbformat": 4,
  "nbformat_minor": 0,
  "metadata": {
    "colab": {
      "provenance": []
    },
    "kernelspec": {
      "name": "python3",
      "display_name": "Python 3"
    },
    "language_info": {
      "name": "python"
    }
  },
  "cells": [
    {
      "cell_type": "markdown",
      "source": [
        "**Individual Graded Exercise 1**\n",
        "\n",
        "**Part 1: Regular expression warmup**"
      ],
      "metadata": {
        "id": "Km21lqPh6udX"
      }
    },
    {
      "cell_type": "code",
      "execution_count": 1,
      "metadata": {
        "colab": {
          "base_uri": "https://localhost:8080/",
          "height": 0
        },
        "id": "_s4UfYF96r1g",
        "outputId": "cb79ce43-3c8a-473b-e884-a0d8c0ddfc36"
      },
      "outputs": [
        {
          "output_type": "stream",
          "name": "stdout",
          "text": [
            "Requirement already satisfied: clean-text in /usr/local/lib/python3.10/dist-packages (0.6.0)\n",
            "Requirement already satisfied: emoji<2.0.0,>=1.0.0 in /usr/local/lib/python3.10/dist-packages (from clean-text) (1.7.0)\n",
            "Requirement already satisfied: ftfy<7.0,>=6.0 in /usr/local/lib/python3.10/dist-packages (from clean-text) (6.1.3)\n",
            "Requirement already satisfied: wcwidth<0.3.0,>=0.2.12 in /usr/local/lib/python3.10/dist-packages (from ftfy<7.0,>=6.0->clean-text) (0.2.13)\n"
          ]
        },
        {
          "output_type": "stream",
          "name": "stderr",
          "text": [
            "WARNING:root:Since the GPL-licensed package `unidecode` is not installed, using Python's `unicodedata` package which yields worse results.\n"
          ]
        }
      ],
      "source": [
        "import re\n",
        "import pandas as pd\n",
        "!pip install clean-text\n",
        "from cleantext import clean\n",
        "from collections import Counter\n",
        "import matplotlib.pyplot as plt"
      ]
    },
    {
      "cell_type": "code",
      "source": [
        "# Assume that cpr is passed as string\n",
        "# Extend the regualar expression to not accept DD and MM of 00\n",
        "# For now just do an if statement\n",
        "def cpr_lexing(cpr):\n",
        "    pattern = re.compile(\"(^[0-3][0-9])([0-1][0-9])([0-9]{2})-?([0-9]{4})\")\n",
        "    match = pattern.match(cpr)\n",
        "    if (match and match.group(1) != \"00\" and match.group(2) != \"00\"\n",
        "        and match.group(4) != \"0000\"):\n",
        "        print(\"String is a cpr\")\n",
        "        DD = match.group(1)\n",
        "        MM = match.group(2)\n",
        "        YY = match.group(3)\n",
        "        IIII = match.group(4)\n",
        "        return int(DD), int(MM), int(YY), int(IIII)\n",
        "    else:\n",
        "        print(\"String is not a cpr\")\n",
        "    pass\n",
        "\n",
        "# Function that takes a cpr and returns the century\n",
        "def get_Century(cpr):\n",
        "    _, _, YY, IIII = cpr_lexing(cpr)\n",
        "    if (1 <= IIII <= 3999):\n",
        "        return 1900\n",
        "    elif (4000 <= IIII <= 4999):\n",
        "        if (0 <= YY <= 36):\n",
        "            return 2000\n",
        "        elif (37 <= YY <= 99):\n",
        "            return 1900\n",
        "    elif (5000 <= IIII <= 8999):\n",
        "        if (0 <= YY <= 57):\n",
        "            return 2000\n",
        "        elif (58 <= YY <= 99):\n",
        "            return 1800\n",
        "    elif (9000 <= IIII <= 9999):\n",
        "        if (0 <= YY <= 36):\n",
        "            return 2000\n",
        "        elif (37 <= YY <= 99):\n",
        "            return 1900\n",
        "\n",
        "cpr1 = \"010199-5000\"\n",
        "print(get_Century(cpr1))"
      ],
      "metadata": {
        "colab": {
          "base_uri": "https://localhost:8080/",
          "height": 0
        },
        "id": "bJVRJ4fZ7UgZ",
        "outputId": "8c06d90e-6789-4da1-b9f1-ba1687f1dc38"
      },
      "execution_count": 2,
      "outputs": [
        {
          "output_type": "stream",
          "name": "stdout",
          "text": [
            "String is a cpr\n",
            "1800\n"
          ]
        }
      ]
    },
    {
      "cell_type": "markdown",
      "source": [
        "**Part 2: Processing the FakeNewsCorpus data set**"
      ],
      "metadata": {
        "id": "s-L96LAFG5m8"
      }
    },
    {
      "cell_type": "code",
      "source": [
        "raw_data = pd.read_csv(\"https://raw.githubusercontent.com/several27/FakeNewsCorpus/master/news_sample.csv\", index_col = 0)"
      ],
      "metadata": {
        "id": "GL6snr74F_5x"
      },
      "execution_count": 3,
      "outputs": []
    },
    {
      "cell_type": "code",
      "source": [
        "raw_data['content'][1]"
      ],
      "metadata": {
        "colab": {
          "base_uri": "https://localhost:8080/",
          "height": 105
        },
        "id": "YAz5lOEIK0VV",
        "outputId": "7e471f57-396e-4765-e365-89bea33c2060"
      },
      "execution_count": 4,
      "outputs": [
        {
          "output_type": "execute_result",
          "data": {
            "text/plain": [
              "'AWAKENING OF 12 STRANDS of DNA – “Reconnecting with You” Movie\\n\\n% of readers think this story is Fact. Add your two cents.\\n\\nHeadline: Bitcoin & Blockchain Searches Exceed Trump! Blockchain Stocks Are Next!\\n\\n[January 24, 2018 - ZurichTimes.net]\\n\\nAs Miles Johnston was giving update, it was another case of Strange Synchronicities of Goodness Hidden inside of Tests and Trials, like a Follow the WhiteRabbit down the Rabbit Hole type of exercise.\\n\\nIn Researching the 12 Strands of DNA we came across some articles, one in particular was as a Strange Synchronicity written exactly 1 year ago on the Same Topic.\\n\\nhttps://www.youtube.com/watch?v=_6Ze1mrs4BQ\\n\\nhttps://www.youtube.com/watch?v=2nKcDiIc8JY\\n\\nWhat are the 12 Strands of our DNA and Why is a War Against our DNA?\\n\\nTrailer for Awakening of 12 Strands\\n\\nThe Full Video is only available as a Paid Video on Vimeo.\\n\\nAWAKENING OF 12 STRANDS – “Reconnecting with You”\\n\\nvimeo.com/ondemand/Awakeningof12strands\\n\\nAWAKENING OF 12 STRANDS – “Reconnecting with You”. from sandra daroy on Vimeo.\\n\\nWe have not watched the full video, but based on the Strange Synchronicities present within we suggest you use your Discernment as Always Necessary in these End Times.\\n\\nhttps://vimeo.com/ondemand/Awakeningof12strands\\n\\n'"
            ],
            "application/vnd.google.colaboratory.intrinsic+json": {
              "type": "string"
            }
          },
          "metadata": {},
          "execution_count": 4
        }
      ]
    },
    {
      "cell_type": "code",
      "source": [
        "def clean_text(text):\n",
        "    text = text.lower()\n",
        "    text = remove_multiple_whitespace(text)\n",
        "    text = replace_numbers(text)\n",
        "    text = replace_emails(text)\n",
        "    text = replace_urls(text)\n",
        "    text = replace_dates(text)\n",
        "    return text\n",
        "\n",
        "def remove_multiple_whitespace(text):\n",
        "    text = re.sub(\"\\r\\r+\" , \"\\r\", text)\n",
        "    text = re.sub(\"\\n\\n+\" , \"\\n\", text)\n",
        "    text = re.sub(\"\\t\\t+\" , \"\\t\", text)\n",
        "    text = re.sub(\"\\f\\f+\" , \"\\f\", text)\n",
        "    text = re.sub(\"  +\" , \" \", text)\n",
        "    return text\n",
        "\n",
        "def replace_numbers(text):\n",
        "    pattern = re.compile(\"\\d+[^\\s\\w]?\\d*\")\n",
        "    text = re.sub(pattern, \"<NUM>\", text)\n",
        "    return text\n",
        "\n",
        "def replace_emails(text):\n",
        "    pattern = re.compile(r\"[a-zA-Z0-9_.<>+-]+@[a-zA-Z0-9-]+\\.[a-zA-Z0-9-.]+\")\n",
        "    text = re.sub(pattern, \"<EMAIL>\", text)\n",
        "    return text\n",
        "\n",
        "def replace_urls(text):\n",
        "    pattern = re.compile(r\"(?:https?:(?:/{1,3})|[a-z0-9.\\-]+[.][a-z]{1,3})(:?[^\\s()<>{}\\[\\]]+)\")\n",
        "    text = re.sub(pattern, \"<URL>\", text)\n",
        "    return text\n",
        "\n",
        "# Consider improving with laziness vs greediness in places where only month and number are listed etc.\n",
        "def replace_dates(text):\n",
        "    pattern = re.compile(r\"(?:january|february|march|april|may|june|july|august|september|october|november|december|jan|feb|mar|apr|may)?(:?[. ]?<NUM>(?:th)?[, ]{0,2}<NUM>)\")\n",
        "    text = re.sub(pattern, \"<DATE>\", text)\n",
        "    return text"
      ],
      "metadata": {
        "id": "eBu9ZZpjfClL"
      },
      "execution_count": 5,
      "outputs": []
    },
    {
      "cell_type": "code",
      "source": [
        "clean_data_homemade = raw_data.copy()\n",
        "clean_data_homemade['content'] = raw_data['content'].apply(clean_text)"
      ],
      "metadata": {
        "id": "j-muNonBMoE3"
      },
      "execution_count": 6,
      "outputs": []
    },
    {
      "cell_type": "code",
      "source": [
        "clean_data_library = raw_data.copy()\n",
        "# Can't clean date with clean-text library\n",
        "clean_anon = (lambda x: clean(x,\n",
        "        fix_unicode=False,               # fix various unicode errors\n",
        "        to_ascii=False,                  # transliterate to closest ASCII representation\n",
        "        lower=True,                     # lowercase text\n",
        "        no_line_breaks=False,           # fully strip line breaks as opposed to only normalizing them\n",
        "        no_urls=True,                  # replace all URLs with a special token\n",
        "        no_emails=True,                # replace all email addresses with a special token\n",
        "        no_phone_numbers=False,         # replace all phone numbers with a special token\n",
        "        no_numbers=True,               # replace all numbers with a special token\n",
        "        no_digits=True,                # replace all digits with a special token\n",
        "        no_currency_symbols=False,      # replace all currency symbols with a special token\n",
        "        no_punct=False,                 # remove punctuations\n",
        "        replace_with_punct=\"\",          # instead of removing punctuations you may replace them\n",
        "        replace_with_url=\"<URL>\",\n",
        "        replace_with_email=\"<EMAIL>\",\n",
        "        replace_with_phone_number=\"<PHONE>\",\n",
        "        replace_with_number=\"<NUM>\",\n",
        "        replace_with_digit=\"0\",\n",
        "        replace_with_currency_symbol=\"<CUR>\",\n",
        "        lang=\"en\"                       # set to 'de' for German special handling\n",
        "    )\n",
        ")"
      ],
      "metadata": {
        "id": "EfINa3iEVwPH"
      },
      "execution_count": 7,
      "outputs": []
    },
    {
      "cell_type": "code",
      "source": [
        "clean_data_library['content'] = raw_data['content'].apply(clean_anon)"
      ],
      "metadata": {
        "id": "TopF5bFXZnL8"
      },
      "execution_count": 8,
      "outputs": []
    },
    {
      "cell_type": "markdown",
      "source": [
        "**Part 3: Descriptive frequency analysis of the data**\n",
        "\n",
        "I assume that the preprocessing done in step 2 is intended and won't do further e.g. stemming, stopword removal etc."
      ],
      "metadata": {
        "id": "6hSJBTbthaAc"
      }
    },
    {
      "cell_type": "code",
      "source": [
        "results_raw = raw_data.loc[:,('content')].str.split().sum()\n",
        "unique_word_count_raw = len(set(results_raw))\n",
        "results = clean_data_library.loc[:,('content')].str.split().sum()\n",
        "unique_word_count = len(set(results))\n",
        "print('Unique words initially: {}'.format(unique_word_count_raw))\n",
        "print('Unique words after simple cleaning: {}'.format(unique_word_count))"
      ],
      "metadata": {
        "colab": {
          "base_uri": "https://localhost:8080/",
          "height": 0
        },
        "id": "S0MGAS-jhsqM",
        "outputId": "07eac49c-84f7-40f7-c793-88105f2eb6ac"
      },
      "execution_count": 9,
      "outputs": [
        {
          "output_type": "stream",
          "name": "stdout",
          "text": [
            "Unique words initially: 30005\n",
            "Unique words after simple cleaning: 25640\n"
          ]
        }
      ]
    },
    {
      "cell_type": "code",
      "source": [
        "results_counts = Counter(results)\n",
        "sorted_results_top50 = results_counts.most_common(50)\n",
        "words, frequencies = zip(*sorted_results_top50)"
      ],
      "metadata": {
        "id": "b_MaXgVrwQM3"
      },
      "execution_count": 10,
      "outputs": []
    },
    {
      "cell_type": "code",
      "source": [
        "# plot\n",
        "plt.figure(figsize=(10,8))\n",
        "plt.bar(words, frequencies)\n",
        "plt.xlabel('Words')\n",
        "plt.ylabel('Frequency')\n",
        "plt.title('Top 50 most frequent words')\n",
        "plt.xticks(rotation=90)\n",
        "plt.show()"
      ],
      "metadata": {
        "colab": {
          "base_uri": "https://localhost:8080/",
          "height": 758
        },
        "id": "sGJRYnzwziOE",
        "outputId": "593aca30-1665-4c15-ec5f-05d95409514a"
      },
      "execution_count": 11,
      "outputs": [
        {
          "output_type": "display_data",
          "data": {
            "text/plain": [
              "<Figure size 1000x800 with 1 Axes>"
            ],
            "image/png": "[encoded data removed]"
          },
          "metadata": {}
        }
      ]
    }
  ]
}